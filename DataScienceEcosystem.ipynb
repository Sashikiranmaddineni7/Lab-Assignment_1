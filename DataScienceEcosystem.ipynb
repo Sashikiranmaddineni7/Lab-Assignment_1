{
 "cells": [
  {
   "cell_type": "markdown",
   "id": "c57acda1-f5ff-4b05-a5d8-3561b2011cc3",
   "metadata": {},
   "source": [
    "# Data Science Tools and Ecosystem"
   ]
  },
  {
   "cell_type": "markdown",
   "id": "9720ae3e-2274-4ad2-945e-69dc6d4311bb",
   "metadata": {},
   "source": [
    "In this notebook, Data Science Tools and Ecosystem are summarized."
   ]
  },
  {
   "cell_type": "markdown",
   "id": "8371335c-4e1a-46fb-8fd5-ed549cbcd586",
   "metadata": {
    "tags": []
   },
   "source": [
    "**Objectives:**\n",
    "unordered list\n",
    "* List of popular languages for Data Science\n",
    "* List of libraries used in data science\n",
    "* List of Data Science Tools\n",
    "* Basic Arithmetic Expressions"
   ]
  },
  {
   "cell_type": "markdown",
   "id": "b4bb71e7-1402-45b3-89c3-eafba19bd1cd",
   "metadata": {},
   "source": [
    "Some of the popular languages that Data Scientists use are:\n",
    "\n",
    "1. Python\n",
    "2. R\n",
    "3. Java\n",
    "4. SQL"
   ]
  },
  {
   "cell_type": "markdown",
   "id": "6b261238-21e1-4a51-a128-2e7f0ed69b5a",
   "metadata": {},
   "source": [
    "Some of the commonly used libraries used by Data Scientists include:\n",
    "\n",
    "1. Pandas\n",
    "2. Numpy\n",
    "3. Matplotlib\n",
    "4. Keras\n",
    "5. Seaborn\n",
    "6. Scikit-learn\n",
    "7. Tensorflow\n"
   ]
  },
  {
   "cell_type": "markdown",
   "id": "72d3930a-37e0-4038-9d78-c60e058a32d0",
   "metadata": {
    "tags": []
   },
   "source": [
    "Exercise 6:\n",
    "\n",
    "| Data Science Tools |\n",
    "| ------------------ |\n",
    "| Jupyter Notebook |\n",
    "| Rstudio |\n",
    "| Apache Spark |\n",
    "| APache Flink |\n"
   ]
  },
  {
   "cell_type": "markdown",
   "id": "d9feaef9-8ecc-4da0-ac91-ec57f6ce3c9a",
   "metadata": {},
   "source": [
    "### Below are a few examples of evaluating arithmetic expressions in Python\n",
    "\n",
    "We are going to peform some arthematic operations in the cell.\n"
   ]
  },
  {
   "cell_type": "code",
   "execution_count": 4,
   "id": "857c0146-b08a-4a4d-a259-8c548538f6ef",
   "metadata": {
    "tags": []
   },
   "outputs": [
    {
     "data": {
      "text/plain": [
       "17"
      ]
     },
     "execution_count": 4,
     "metadata": {},
     "output_type": "execute_result"
    }
   ],
   "source": [
    "# This a simple arithmetic expression to mutiply then add integers\n",
    "(3*4)+5"
   ]
  },
  {
   "cell_type": "code",
   "execution_count": 14,
   "id": "cfe00da2-265d-42ca-87ce-7fc29e3ad24f",
   "metadata": {
    "tags": []
   },
   "outputs": [
    {
     "data": {
      "text/plain": [
       "3.33"
      ]
     },
     "execution_count": 14,
     "metadata": {},
     "output_type": "execute_result"
    }
   ],
   "source": [
    "# This will convert 200 minutes to hours by diving by 60\n",
    "hrs = (200/60)\n",
    "round(hrs, 2)"
   ]
  },
  {
   "cell_type": "markdown",
   "id": "cc9bc6cc-83be-47db-92db-e9402c820605",
   "metadata": {},
   "source": [
    "## Author\n",
    "Sashi Kiran Maddineni"
   ]
  }
 ],
 "metadata": {
  "kernelspec": {
   "display_name": "Python",
   "language": "python",
   "name": "conda-env-python-py"
  },
  "language_info": {
   "codemirror_mode": {
    "name": "ipython",
    "version": 3
   },
   "file_extension": ".py",
   "mimetype": "text/x-python",
   "name": "python",
   "nbconvert_exporter": "python",
   "pygments_lexer": "ipython3",
   "version": "3.7.12"
  }
 },
 "nbformat": 4,
 "nbformat_minor": 5
}
